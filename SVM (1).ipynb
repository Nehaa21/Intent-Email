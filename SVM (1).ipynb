{
  "nbformat": 4,
  "nbformat_minor": 0,
  "metadata": {
    "colab": {
      "provenance": []
    },
    "kernelspec": {
      "name": "python3",
      "display_name": "Python 3"
    },
    "language_info": {
      "name": "python"
    }
  },
  "cells": [
    {
      "cell_type": "code",
      "source": [
        "import pandas as pd\n",
        "\n",
        "file_path = '/content/drive/MyDrive/combined_data_2 - Sheet1.csv'\n",
        "df = pd.read_csv(file_path)\n",
        "\n",
        "df_cleaned = df.dropna()\n",
        "\n",
        "cleaned_file_path = '/content/combined_data_2 - Sheet1.csv'\n",
        "df_cleaned.to_csv(cleaned_file_path, index=False)\n",
        "\n",
        "print(\"Missing values removed and cleaned CSV file saved.\")\n"
      ],
      "metadata": {
        "colab": {
          "base_uri": "https://localhost:8080/"
        },
        "id": "8TuV48N0yGTq",
        "outputId": "d305f740-bf5e-4468-f45d-cb39990e31fd"
      },
      "execution_count": null,
      "outputs": [
        {
          "output_type": "stream",
          "name": "stdout",
          "text": [
            "Missing values removed and cleaned CSV file saved.\n"
          ]
        }
      ]
    },
    {
      "cell_type": "code",
      "source": [
        "import pandas as pd\n",
        "import numpy as np\n",
        "from sklearn.feature_extraction.text import CountVectorizer\n",
        "from sklearn.model_selection import train_test_split\n",
        "from sklearn.svm import SVC\n",
        "from sklearn.metrics import accuracy_score, classification_report, confusion_matrix\n",
        "from scipy import sparse\n",
        "\n",
        "df = pd.read_csv('/content/combined_data_2 - Sheet1.csv')\n",
        "\n",
        "df['Message'] = df['Message'].fillna('')\n",
        "\n",
        "X = df['Message']\n",
        "y = df['Category']\n",
        "\n",
        "X_train, X_test, y_train, y_test = train_test_split(X, y, test_size=0.2, random_state=42)\n",
        "\n",
        "cv = CountVectorizer()\n",
        "X_train_cv = cv.fit_transform(X_train)\n",
        "X_test_cv = cv.transform(X_test)\n",
        "\n",
        "X_train_cv = X_train_cv.toarray()\n",
        "X_train_cv[np.isnan(X_train_cv)] = 0\n",
        "X_train_cv = sparse.csr_matrix(X_train_cv)\n",
        "\n",
        "y_train = y_train.fillna('unknown')\n",
        "classifier = SVC(kernel='linear', random_state=10)\n",
        "classifier.fit(X_train_cv, y_train)\n",
        "\n",
        "X_test_cv = X_test_cv.toarray()\n",
        "X_test_cv[np.isnan(X_test_cv)] = 0\n",
        "X_test_cv = sparse.csr_matrix(X_test_cv)\n",
        "\n",
        "y_pred = classifier.predict(X_test_cv)\n",
        "\n",
        "accuracy = accuracy_score(y_test, y_pred)\n",
        "print(\"Classifier accuracy:\", accuracy)\n",
        "\n",
        "\n",
        "\n"
      ],
      "metadata": {
        "colab": {
          "base_uri": "https://localhost:8080/"
        },
        "id": "P4lUdMW-yX3x",
        "outputId": "d19caa81-88d9-41ef-af64-351807c4ece1"
      },
      "execution_count": null,
      "outputs": [
        {
          "output_type": "stream",
          "name": "stdout",
          "text": [
            "Classifier accuracy: 0.9704225352112676\n"
          ]
        }
      ]
    },
    {
      "cell_type": "code",
      "source": [
        "import pickle\n",
        "with open('/content/svm_classifier.pkl', 'wb') as f:\n",
        "    pickle.dump((classifier, cv, X_train_cv, y_train), f)\n"
      ],
      "metadata": {
        "id": "0ARPEZw0SiQy"
      },
      "execution_count": null,
      "outputs": []
    }
  ]
}