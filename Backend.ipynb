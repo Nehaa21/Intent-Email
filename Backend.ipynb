{
  "nbformat": 4,
  "nbformat_minor": 0,
  "metadata": {
    "colab": {
      "provenance": []
    },
    "kernelspec": {
      "name": "python3",
      "display_name": "Python 3"
    },
    "language_info": {
      "name": "python"
    }
  },
  "cells": [
    {
      "cell_type": "code",
      "source": [
        "from google.colab import drive\n",
        "drive.mount('/content/drive')"
      ],
      "metadata": {
        "colab": {
          "base_uri": "https://localhost:8080/"
        },
        "id": "ww29CZ5dUCku",
        "outputId": "6ffa566c-48e1-4de4-c9d5-3eb3455d03d4"
      },
      "execution_count": null,
      "outputs": [
        {
          "output_type": "stream",
          "name": "stdout",
          "text": [
            "Mounted at /content/drive\n"
          ]
        }
      ]
    },
    {
      "cell_type": "code",
      "source": [
        "import poplib\n",
        "import email\n",
        "import yaml\n",
        "import pickle\n",
        "with open(\"/content/drive/MyDrive/credentials.yml\") as f:\n",
        "    my_credentials = yaml.load(f, Loader=yaml.FullLoader)\n",
        "user, password = my_credentials[\"user\"], my_credentials[\"password\"]\n",
        "pop3_server = 'pop.gmail.com'\n",
        "my_mail = poplib.POP3_SSL(pop3_server)\n",
        "my_mail.user(user)\n",
        "my_mail.pass_(password)\n",
        "num_messages = len(my_mail.list()[1])\n",
        "msgs = []\n",
        "for i in range(num_messages, 0, -1):\n",
        "    response, msg_lines, octets = my_mail.retr(i)\n",
        "    msg_data = b'\\r\\n'.join(msg_lines).decode('utf-8')\n",
        "    msgs.append(msg_data)\n",
        "my_mail.quit()\n",
        "list1 = []\n",
        "for msg in msgs:\n",
        "    my_msg = email.message_from_string(msg)\n",
        "    print(\"_______________\")\n",
        "    print(\"subj:\", my_msg['subject'])\n",
        "    print(\"from:\", my_msg['from'])\n",
        "    print(\"body:\")\n",
        "    email_content = \"\"\n",
        "    for part in my_msg.walk():\n",
        "        if part.get_content_type() == 'text/plain':\n",
        "            email_content = part.get_payload()\n",
        "            print(email_content)\n",
        "            list1.append(email_content)\n",
        "print(len(list1))\n",
        "with open('/content/drive/MyDrive/svm_classifier.pkl', 'rb') as f:\n",
        "    classifier, cv, _, _ = pickle.load(f)\n",
        "X_test_cv = cv.transform(list1)\n",
        "predicted_categories = classifier.predict(X_test_cv)\n",
        "print(\"Predicted Categories:\")\n",
        "for i, category in enumerate(predicted_categories):\n",
        "    print(f\"Email {i + 1}: {category}\")"
      ],
      "metadata": {
        "colab": {
          "base_uri": "https://localhost:8080/"
        },
        "id": "VEPLzjI7pjaf",
        "outputId": "f97394a9-1edf-40e6-a219-70be84410514"
      },
      "execution_count": null,
      "outputs": [
        {
          "output_type": "stream",
          "name": "stdout",
          "text": [
            "_______________\n",
            "subj: \n",
            "from: U RAKSHITHA <21211a7259@bvrit.ac.in>\n",
            "body:\n",
            "AJIOMania LIVE NOW | 50-90% off* on 5000+ brands\r\n",
            "\r\n",
            "-- \r\n",
            "*Engineering **Sciences*\r\n",
            "\r\n",
            "*BVRIT <http://bvrit.ac.in>* | *SVECW* \r\n",
            "<http://svecw.edu.in> | *VIT* <http://vishnu.edu.in> | *BVRITH * \r\n",
            "<http://bvrithyderabad.edu.in>\r\n",
            "\r\n",
            "*Medical Sciences*\r\n",
            "\r\n",
            "*VDC \r\n",
            "<http://vdc.edu.in>* | *SVCP <http://svcp.edu.in>* | *VIPER  \r\n",
            "<http://viper.ac.in>*| *BVRICE* <http://bvrice.edu.in>*  \r\n",
            "<http://viper.ac.in>*\r\n",
            "\n",
            "_______________\n",
            "subj: \n",
            "from: Inti Kumaraswamy <kumaraswamy.inti@gmail.com>\n",
            "body:\n",
            "Respected student,\r\n",
            "You are cordially invited to our conference on 15-10-2023\r\n",
            "\n",
            "2\n",
            "Predicted Categories:\n",
            "Email 1: spam\n",
            "Email 2: important\n"
          ]
        }
      ]
    },
    {
      "cell_type": "code",
      "source": [
        "predicted_categories"
      ],
      "metadata": {
        "colab": {
          "base_uri": "https://localhost:8080/"
        },
        "id": "3g8J8pxZuyPn",
        "outputId": "f835ee74-9c5f-4f90-80d6-a04734452702"
      },
      "execution_count": null,
      "outputs": [
        {
          "output_type": "execute_result",
          "data": {
            "text/plain": [
              "array(['spam', 'important'], dtype=object)"
            ]
          },
          "metadata": {},
          "execution_count": 5
        }
      ]
    },
    {
      "cell_type": "code",
      "source": [
        "list2=[]\n",
        "for i in range(len(predicted_categories)):\n",
        "  if predicted_categories[i]==\"important\":\n",
        "    list2.append(list1[i])\n",
        "len(list2)"
      ],
      "metadata": {
        "id": "3Ub5AqmBvFg3"
      },
      "execution_count": null,
      "outputs": []
    },
    {
      "cell_type": "code",
      "source": [
        "pip install sumy"
      ],
      "metadata": {
        "id": "LfXhOY2xycX0"
      },
      "execution_count": null,
      "outputs": []
    },
    {
      "cell_type": "code",
      "source": [
        "from sumy.parsers.plaintext import PlaintextParser\n",
        "from sumy.nlp.tokenizers import Tokenizer\n",
        "from sumy.summarizers.lsa import LsaSummarizer\n",
        "from sumy.utils import get_stop_words\n",
        "import nltk\n",
        "nltk.download('punkt')"
      ],
      "metadata": {
        "colab": {
          "base_uri": "https://localhost:8080/"
        },
        "id": "oGGKBuokT5S5",
        "outputId": "505fc70f-af84-45b2-9dd7-bfbe5a23dce8"
      },
      "execution_count": null,
      "outputs": [
        {
          "output_type": "stream",
          "name": "stderr",
          "text": [
            "[nltk_data] Downloading package punkt to /root/nltk_data...\n",
            "[nltk_data]   Unzipping tokenizers/punkt.zip.\n"
          ]
        },
        {
          "output_type": "execute_result",
          "data": {
            "text/plain": [
              "True"
            ]
          },
          "metadata": {},
          "execution_count": 8
        }
      ]
    },
    {
      "cell_type": "code",
      "source": [
        "def summary(text):\n",
        "  parser = PlaintextParser.from_string(text, Tokenizer(\"english\"))\n",
        "  summarizer = LsaSummarizer()\n",
        "  summarizer.stop_words = get_stop_words(\"english\")\n",
        "  summary = summarizer(parser.document, sentences_count=1)\n",
        "  summary_text = str(summary[0]).split()\n",
        "  if len(summary_text) > 6:\n",
        "        summary_text = ' '.join(summary_text[:6])\n",
        "  return summary_text"
      ],
      "metadata": {
        "id": "4pvKHBABzBue"
      },
      "execution_count": null,
      "outputs": []
    },
    {
      "cell_type": "code",
      "source": [
        "import spacy\n",
        "import re\n",
        "from dateutil.parser import parse\n",
        "from datetime import timedelta\n",
        "nlp = spacy.load(\"en_core_web_sm\")\n",
        "def preprocess_date_string(date_string):\n",
        "    # Converts \"21st\", \"22nd\", etc. to \"21\", \"22\", etc.\n",
        "    date_string = re.sub(r'(\\d+)(st|nd|rd|th)', r'\\1', date_string)\n",
        "    return date_string\n",
        "def format_date_for_output(date):\n",
        "    if date:\n",
        "        return 'new Date(\"' + date.strftime('%a %b %d %Y %H:%M:%S %Z%z') + '\")'\n",
        "    else:\n",
        "        return 'null'\n",
        "def extract_event_name_from_subject(email_subject):\n",
        "    doc = nlp(email_subject)\n",
        "    event_name = \"\"\n",
        "    event_keywords = [\"conference\", \"workshop\", \"webinar\", \"lecture\", \"seminar\",\"exam\",\"course\"]\n",
        "    for token in doc:\n",
        "        if token.text.lower() in event_keywords:\n",
        "            event_name_start = doc[token.i:].text\n",
        "            event_name = event_name_start.strip()\n",
        "            break\n",
        "    return event_name\n",
        "def extract_event_info(email_body):\n",
        "    doc = nlp(email_body)\n",
        "    event_id = 122\n",
        "    event_title = \"\"\n",
        "    event_date = None\n",
        "    event_description = \"\"\n",
        "    admin_ids = [1, 2, 3, 4]\n",
        "    event_keywords = [\"event\", \"schedule\", \"meeting\",\"event\", \"schedule\", \"meeting\", \"session\", \"conference\", \"workshop\", \"webinar\", \"presentation\", \"lecture\", \"seminar\", \"talk\", \"demo\", \"training\", \"class\", \"course\", \"forum\",  \"symposium\", \"gathering\", \"ceremony\", \"gala\", \"reception\", \"reunion\", \"summit\", \"competition\", \"tournament\", \"fair\", \"exhibition\", \"launch\", \"celebration\", \"party\", \"performance\"]\n",
        "    date_pattern = r'\\b(?:\\d{1,2}(?:st|nd|rd|th)?\\s+\\w+|\\w+\\s+\\d{1,2}(?:st|nd|rd|th)?)\\b'\n",
        "    dates_found = re.findall(date_pattern, email_body)\n",
        "    if dates_found:\n",
        "        processed_date = preprocess_date_string(dates_found[0])\n",
        "        event_date = parse(processed_date, fuzzy=True)\n",
        "    for sentence in doc.sents:\n",
        "        for keyword in event_keywords:\n",
        "            if keyword in sentence.text.lower():\n",
        "                event_title = summary(sentence.text)\n",
        "                event_description = sentence.text\n",
        "                break\n",
        "    formatted_start_date = format_date_for_output(event_date)\n",
        "    formatted_end_date = 'null'\n",
        "    output = f'''\n",
        "    {{\n",
        "      event_id: {event_id},\n",
        "      title: \"{event_title}\",\n",
        "      start: {formatted_start_date},\n",
        "      end: {formatted_end_date},\n",
        "      description: \"{event_description}\",\n",
        "      admin_id: {admin_ids},\n",
        "    }}\n",
        "    '''\n",
        "    return output\n",
        "# Example email body\n",
        "for k in range(len(list2)):\n",
        "  email_body=list2[k]\n",
        "  output = extract_event_info(email_body)\n",
        "  print(output)"
      ],
      "metadata": {
        "id": "-NcHB6fILa5s",
        "colab": {
          "base_uri": "https://localhost:8080/"
        },
        "outputId": "58e627ff-43c7-4349-db55-6e2589d24e26"
      },
      "execution_count": null,
      "outputs": [
        {
          "output_type": "stream",
          "name": "stdout",
          "text": [
            "\n",
            "    {\n",
            "      event_id: 122,\n",
            "      title: \"Respected student, You are cordially invited\",\n",
            "      start: new Date(\"Tue Aug 15 2023 00:00:00 \"),\n",
            "      end: null,\n",
            "      description: \"Respected student,\r\n",
            "You are cordially invited to our conference on 15-10-2023\r\n",
            "\",\n",
            "      admin_id: [1, 2, 3, 4],\n",
            "    }\n",
            "    \n"
          ]
        }
      ]
    }
  ]
}